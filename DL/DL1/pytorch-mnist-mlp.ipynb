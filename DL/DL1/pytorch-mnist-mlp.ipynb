{
 "cells": [
  {
   "cell_type": "code",
   "execution_count": null,
   "metadata": {},
   "outputs": [],
   "source": []
  },
  {
   "cell_type": "code",
   "execution_count": 1,
   "metadata": {
    "scrolled": true
   },
   "outputs": [
    {
     "name": "stdout",
     "output_type": "stream",
     "text": [
      "Using PyTorch version: 1.9.1+cu111  Device: cuda\n"
     ]
    }
   ],
   "source": [
    "%matplotlib inline\n",
    "\n",
    "import torch\n",
    "import torch.nn as nn\n",
    "import torch.nn.functional as F\n",
    "from torchvision import datasets, transforms\n",
    "\n",
    "import numpy as np\n",
    "import matplotlib.pyplot as plt\n",
    "\n",
    "if torch.cuda.is_available():\n",
    "    device = torch.device('cuda')\n",
    "else:\n",
    "    device = torch.device('cpu')\n",
    "    \n",
    "print('Using PyTorch version:', torch.__version__, ' Device:', device)"
   ]
  },
  {
   "cell_type": "markdown",
   "metadata": {},
   "source": [
    "\n",
    "## Data\n",
    "\n",
    "Next we'll load the MNIST data.  First time we may have to download the data, which can take a while.\n",
    "\n",
    "Note that we are here using the MNIST test data for *validation*, instead of for testing the final model."
   ]
  },
  {
   "cell_type": "code",
   "execution_count": 2,
   "metadata": {},
   "outputs": [
    {
     "name": "stderr",
     "output_type": "stream",
     "text": [
      "D:\\anaconda\\envs\\pytorch\\lib\\site-packages\\torchvision\\datasets\\mnist.py:498: UserWarning: The given NumPy array is not writeable, and PyTorch does not support non-writeable tensors. This means you can write to the underlying (supposedly non-writeable) NumPy array using the tensor. You may want to copy the array to protect its data or make it writeable before converting it to a tensor. This type of warning will be suppressed for the rest of this program. (Triggered internally at  ..\\torch\\csrc\\utils\\tensor_numpy.cpp:180.)\n",
      "  return torch.from_numpy(parsed.astype(m[2], copy=False)).view(*s)\n"
     ]
    }
   ],
   "source": [
    "batch_size = 32\n",
    "\n",
    "train_dataset = datasets.MNIST('./data', \n",
    "                               train=True, \n",
    "                               download=True, \n",
    "                               transform=transforms.ToTensor())\n",
    "\n",
    "validation_dataset = datasets.MNIST('./data', \n",
    "                                    train=False, \n",
    "                                    transform=transforms.ToTensor())\n",
    "\n",
    "train_loader = torch.utils.data.DataLoader(dataset=train_dataset, \n",
    "                                           batch_size=batch_size, \n",
    "                                           shuffle=True)\n",
    "\n",
    "validation_loader = torch.utils.data.DataLoader(dataset=validation_dataset, \n",
    "                                                batch_size=batch_size, \n",
    "                                                shuffle=False)"
   ]
  },
  {
   "cell_type": "markdown",
   "metadata": {},
   "source": [
    "The train and test data are provided via data loaders that provide iterators over the datasets. The first element of training data (`X_train`) is a 4th-order tensor of size (`batch_size`, 1, 28, 28), i.e. it consists of a batch of images of size 1x28x28 pixels. `y_train` is a vector containing the correct classes (\"0\", \"1\", ..., \"9\") for each training digit."
   ]
  },
  {
   "cell_type": "code",
   "execution_count": 3,
   "metadata": {},
   "outputs": [
    {
     "name": "stdout",
     "output_type": "stream",
     "text": [
      "X_train: torch.Size([32, 1, 28, 28]) type: torch.FloatTensor\n",
      "y_train: torch.Size([32]) type: torch.LongTensor\n"
     ]
    }
   ],
   "source": [
    "for (X_train, y_train) in train_loader:\n",
    "    print('X_train:', X_train.size(), 'type:', X_train.type())\n",
    "    print('y_train:', y_train.size(), 'type:', y_train.type())\n",
    "    break"
   ]
  },
  {
   "cell_type": "markdown",
   "metadata": {},
   "source": [
    "Here are the first 10 training digits:"
   ]
  },
  {
   "cell_type": "code",
   "execution_count": 4,
   "metadata": {},
   "outputs": [
    {
     "data": {
      "image/png": "[encoded data removed]",
      "text/plain": [
       "<Figure size 720x72 with 10 Axes>"
      ]
     },
     "metadata": {
      "needs_background": "light"
     },
     "output_type": "display_data"
    }
   ],
   "source": [
    "pltsize=1\n",
    "plt.figure(figsize=(10*pltsize, pltsize))\n",
    "\n",
    "for i in range(10):\n",
    "    plt.subplot(1,10,i+1)\n",
    "    plt.axis('off')\n",
    "    plt.imshow(X_train[i,:,:,:].numpy().reshape(28,28), cmap=\"gray_r\")\n",
    "    plt.title('Class: '+str(y_train[i].item()))"
   ]
  },
  {
   "cell_type": "markdown",
   "metadata": {},
   "source": [
    "## MLP network definition\n",
    "\n",
    "Let's define the network as a Python class.  We have to write the `__init__()` and `forward()` methods, and PyTorch will automatically generate a `backward()` method for computing the gradients for the backward pass.\n",
    "\n",
    "Finally, we define an optimizer to update the model parameters based on the computed gradients.  We select *stochastic gradient descent (with momentum)* as the optimization algorithm, and set *learning rate* to 0.01.  Note that there are [several different options](http://pytorch.org/docs/optim.html#algorithms) for the optimizer in PyTorch that we could use instead of *SGD*."
   ]
  },
  {
   "cell_type": "code",
   "execution_count": 5,
   "metadata": {},
   "outputs": [
    {
     "name": "stdout",
     "output_type": "stream",
     "text": [
      "Net(\n",
      "  (fc1): Linear(in_features=784, out_features=100, bias=True)\n",
      "  (fc1_drop): Dropout(p=0.2, inplace=False)\n",
      "  (fc2): Linear(in_features=100, out_features=50, bias=True)\n",
      "  (fc2_drop): Dropout(p=0.2, inplace=False)\n",
      "  (fc3): Linear(in_features=50, out_features=50, bias=True)\n",
      "  (fc3_drop): Dropout(p=0.2, inplace=False)\n",
      "  (fc4): Linear(in_features=50, out_features=10, bias=True)\n",
      ")\n"
     ]
    }
   ],
   "source": [
    "class Net(nn.Module):\n",
    "    def __init__(self):\n",
    "        super(Net, self).__init__()\n",
    "        self.fc1 = nn.Linear(28*28, 100)\n",
    "        #self.fc1_drop = nn.Dropout(0.3)\n",
    "        self.fc1_drop = nn.Dropout(0.2)\n",
    "        self.fc2 = nn.Linear(100, 50)\n",
    "        self.fc2_drop = nn.Dropout(0.2)\n",
    "        self.fc3 = nn.Linear(50, 50)\n",
    "        self.fc3_drop = nn.Dropout(0.2)\n",
    "        self.fc4 = nn.Linear(50, 10)\n",
    "\n",
    "    def forward(self, x):\n",
    "        x = x.view(-1, 28*28)\n",
    "        x = F.relu(self.fc1(x))\n",
    "        x = self.fc1_drop(x)\n",
    "        x = F.relu(self.fc2(x))\n",
    "        x = self.fc2_drop(x)\n",
    "        x = F.relu(self.fc3(x))\n",
    "        x = self.fc3_drop(x)\n",
    "        return F.log_softmax(self.fc4(x), dim=1)\n",
    "\n",
    "model = Net().to(device)\n",
    "optimizer = torch.optim.SGD(model.parameters(), lr=0.01, momentum=0.5)\n",
    "criterion = nn.CrossEntropyLoss()\n",
    "\n",
    "print(model)"
   ]
  },
  {
   "cell_type": "markdown",
   "metadata": {},
   "source": [
    "## Learning\n",
    "\n",
    "Let's now define functions to `train()` and `validate()` the model. "
   ]
  },
  {
   "cell_type": "code",
   "execution_count": 6,
   "metadata": {},
   "outputs": [],
   "source": [
    "def train(epoch, log_interval=200):\n",
    "    # Set model to training mode\n",
    "    model.train()\n",
    "    \n",
    "    # Loop over each batch from the training set\n",
    "    for batch_idx, (data, target) in enumerate(train_loader):\n",
    "        # Copy data to GPU if needed\n",
    "        data = data.to(device)\n",
    "        target = target.to(device)\n",
    "\n",
    "        # Zero gradient buffers\n",
    "        optimizer.zero_grad() \n",
    "        \n",
    "        # Pass data through the network\n",
    "        output = model(data)\n",
    "\n",
    "        # Calculate loss\n",
    "        loss = criterion(output, target)\n",
    "\n",
    "        # Backpropagate\n",
    "        loss.backward()\n",
    "        \n",
    "        # Update weights\n",
    "        optimizer.step()\n",
    "        \n",
    "        if batch_idx % log_interval == 0:\n",
    "            print('Train Epoch: {} [{}/{} ({:.0f}%)]\\tLoss: {:.6f}'.format(\n",
    "                epoch, batch_idx * len(data), len(train_loader.dataset),\n",
    "                100. * batch_idx / len(train_loader), loss.data.item()))"
   ]
  },
  {
   "cell_type": "code",
   "execution_count": 7,
   "metadata": {},
   "outputs": [],
   "source": [
    "def validate(loss_vector, accuracy_vector):\n",
    "    model.eval()\n",
    "    val_loss, correct = 0, 0\n",
    "    for data, target in validation_loader:\n",
    "        data = data.to(device)\n",
    "        target = target.to(device)\n",
    "        output = model(data)\n",
    "        val_loss += criterion(output, target).data.item()\n",
    "        pred = output.data.max(1)[1] # get the index of the max log-probability\n",
    "        correct += pred.eq(target.data).cpu().sum()\n",
    "\n",
    "    val_loss /= len(validation_loader)\n",
    "    loss_vector.append(val_loss)\n",
    "\n",
    "    accuracy = 100. * correct.to(torch.float32) / len(validation_loader.dataset)\n",
    "    accuracy_vector.append(accuracy)\n",
    "    \n",
    "    print('\\nValidation set: Average loss: {:.4f}, Accuracy: {}/{} ({:.0f}%)\\n'.format(\n",
    "        val_loss, correct, len(validation_loader.dataset), accuracy))\n"
   ]
  },
  {
   "cell_type": "markdown",
   "metadata": {},
   "source": [
    "Now we are ready to train our model using the `train()` function.  An *epoch* means one pass through the whole training data. After each epoch, we evaluate the model using `validate()`. "
   ]
  },
  {
   "cell_type": "code",
   "execution_count": 8,
   "metadata": {},
   "outputs": [
    {
     "name": "stdout",
     "output_type": "stream",
     "text": [
      "Train Epoch: 1 [0/60000 (0%)]\tLoss: 2.332576\n",
      "Train Epoch: 1 [6400/60000 (11%)]\tLoss: 2.272590\n",
      "Train Epoch: 1 [12800/60000 (21%)]\tLoss: 2.205400\n",
      "Train Epoch: 1 [19200/60000 (32%)]\tLoss: 1.631040\n",
      "Train Epoch: 1 [25600/60000 (43%)]\tLoss: 1.407008\n",
      "Train Epoch: 1 [32000/60000 (53%)]\tLoss: 1.211306\n",
      "Train Epoch: 1 [38400/60000 (64%)]\tLoss: 0.735439\n",
      "Train Epoch: 1 [44800/60000 (75%)]\tLoss: 0.739966\n",
      "Train Epoch: 1 [51200/60000 (85%)]\tLoss: 0.674366\n",
      "Train Epoch: 1 [57600/60000 (96%)]\tLoss: 0.807805\n",
      "\n",
      "Validation set: Average loss: 0.4442, Accuracy: 8755/10000 (88%)\n",
      "\n",
      "Train Epoch: 2 [0/60000 (0%)]\tLoss: 0.459749\n",
      "Train Epoch: 2 [6400/60000 (11%)]\tLoss: 0.421929\n",
      "Train Epoch: 2 [12800/60000 (21%)]\tLoss: 0.603443\n",
      "Train Epoch: 2 [19200/60000 (32%)]\tLoss: 0.595883\n",
      "Train Epoch: 2 [25600/60000 (43%)]\tLoss: 0.365938\n",
      "Train Epoch: 2 [32000/60000 (53%)]\tLoss: 0.385702\n",
      "Train Epoch: 2 [38400/60000 (64%)]\tLoss: 0.706138\n",
      "Train Epoch: 2 [44800/60000 (75%)]\tLoss: 0.429526\n",
      "Train Epoch: 2 [51200/60000 (85%)]\tLoss: 0.255812\n",
      "Train Epoch: 2 [57600/60000 (96%)]\tLoss: 0.387849\n",
      "\n",
      "Validation set: Average loss: 0.2695, Accuracy: 9191/10000 (92%)\n",
      "\n",
      "Train Epoch: 3 [0/60000 (0%)]\tLoss: 0.391598\n",
      "Train Epoch: 3 [6400/60000 (11%)]\tLoss: 0.283111\n",
      "Train Epoch: 3 [12800/60000 (21%)]\tLoss: 0.240904\n",
      "Train Epoch: 3 [19200/60000 (32%)]\tLoss: 0.288403\n",
      "Train Epoch: 3 [25600/60000 (43%)]\tLoss: 0.290207\n",
      "Train Epoch: 3 [32000/60000 (53%)]\tLoss: 0.578173\n",
      "Train Epoch: 3 [38400/60000 (64%)]\tLoss: 0.196053\n",
      "Train Epoch: 3 [44800/60000 (75%)]\tLoss: 0.247166\n",
      "Train Epoch: 3 [51200/60000 (85%)]\tLoss: 0.290585\n",
      "Train Epoch: 3 [57600/60000 (96%)]\tLoss: 0.433806\n",
      "\n",
      "Validation set: Average loss: 0.1955, Accuracy: 9414/10000 (94%)\n",
      "\n",
      "Train Epoch: 4 [0/60000 (0%)]\tLoss: 0.160410\n",
      "Train Epoch: 4 [6400/60000 (11%)]\tLoss: 0.487934\n",
      "Train Epoch: 4 [12800/60000 (21%)]\tLoss: 0.148391\n",
      "Train Epoch: 4 [19200/60000 (32%)]\tLoss: 0.147712\n",
      "Train Epoch: 4 [25600/60000 (43%)]\tLoss: 0.238967\n",
      "Train Epoch: 4 [32000/60000 (53%)]\tLoss: 0.250595\n",
      "Train Epoch: 4 [38400/60000 (64%)]\tLoss: 0.236963\n",
      "Train Epoch: 4 [44800/60000 (75%)]\tLoss: 0.294395\n",
      "Train Epoch: 4 [51200/60000 (85%)]\tLoss: 0.394504\n",
      "Train Epoch: 4 [57600/60000 (96%)]\tLoss: 0.463813\n",
      "\n",
      "Validation set: Average loss: 0.1605, Accuracy: 9513/10000 (95%)\n",
      "\n",
      "Train Epoch: 5 [0/60000 (0%)]\tLoss: 0.217339\n",
      "Train Epoch: 5 [6400/60000 (11%)]\tLoss: 0.091123\n",
      "Train Epoch: 5 [12800/60000 (21%)]\tLoss: 0.825464\n",
      "Train Epoch: 5 [19200/60000 (32%)]\tLoss: 0.134632\n",
      "Train Epoch: 5 [25600/60000 (43%)]\tLoss: 0.233395\n",
      "Train Epoch: 5 [32000/60000 (53%)]\tLoss: 0.492982\n",
      "Train Epoch: 5 [38400/60000 (64%)]\tLoss: 0.122918\n",
      "Train Epoch: 5 [44800/60000 (75%)]\tLoss: 0.241438\n",
      "Train Epoch: 5 [51200/60000 (85%)]\tLoss: 0.131076\n",
      "Train Epoch: 5 [57600/60000 (96%)]\tLoss: 0.204147\n",
      "\n",
      "Validation set: Average loss: 0.1337, Accuracy: 9592/10000 (96%)\n",
      "\n",
      "Train Epoch: 6 [0/60000 (0%)]\tLoss: 0.057971\n",
      "Train Epoch: 6 [6400/60000 (11%)]\tLoss: 0.238883\n",
      "Train Epoch: 6 [12800/60000 (21%)]\tLoss: 0.239784\n",
      "Train Epoch: 6 [19200/60000 (32%)]\tLoss: 0.101987\n",
      "Train Epoch: 6 [25600/60000 (43%)]\tLoss: 0.067938\n",
      "Train Epoch: 6 [32000/60000 (53%)]\tLoss: 0.195442\n",
      "Train Epoch: 6 [38400/60000 (64%)]\tLoss: 0.304277\n",
      "Train Epoch: 6 [44800/60000 (75%)]\tLoss: 0.421164\n",
      "Train Epoch: 6 [51200/60000 (85%)]\tLoss: 0.284476\n",
      "Train Epoch: 6 [57600/60000 (96%)]\tLoss: 0.419447\n",
      "\n",
      "Validation set: Average loss: 0.1203, Accuracy: 9650/10000 (96%)\n",
      "\n",
      "Train Epoch: 7 [0/60000 (0%)]\tLoss: 0.120291\n",
      "Train Epoch: 7 [6400/60000 (11%)]\tLoss: 0.055253\n",
      "Train Epoch: 7 [12800/60000 (21%)]\tLoss: 0.052417\n",
      "Train Epoch: 7 [19200/60000 (32%)]\tLoss: 0.231332\n",
      "Train Epoch: 7 [25600/60000 (43%)]\tLoss: 0.087852\n",
      "Train Epoch: 7 [32000/60000 (53%)]\tLoss: 0.171788\n",
      "Train Epoch: 7 [38400/60000 (64%)]\tLoss: 0.163899\n",
      "Train Epoch: 7 [44800/60000 (75%)]\tLoss: 0.133010\n",
      "Train Epoch: 7 [51200/60000 (85%)]\tLoss: 0.195298\n",
      "Train Epoch: 7 [57600/60000 (96%)]\tLoss: 0.079870\n",
      "\n",
      "Validation set: Average loss: 0.1089, Accuracy: 9672/10000 (97%)\n",
      "\n",
      "Train Epoch: 8 [0/60000 (0%)]\tLoss: 0.075548\n",
      "Train Epoch: 8 [6400/60000 (11%)]\tLoss: 0.074440\n",
      "Train Epoch: 8 [12800/60000 (21%)]\tLoss: 0.210578\n",
      "Train Epoch: 8 [19200/60000 (32%)]\tLoss: 0.211478\n",
      "Train Epoch: 8 [25600/60000 (43%)]\tLoss: 0.130913\n",
      "Train Epoch: 8 [32000/60000 (53%)]\tLoss: 0.154726\n",
      "Train Epoch: 8 [38400/60000 (64%)]\tLoss: 0.122984\n",
      "Train Epoch: 8 [44800/60000 (75%)]\tLoss: 0.121161\n",
      "Train Epoch: 8 [51200/60000 (85%)]\tLoss: 0.153076\n",
      "Train Epoch: 8 [57600/60000 (96%)]\tLoss: 0.106762\n",
      "\n",
      "Validation set: Average loss: 0.1072, Accuracy: 9676/10000 (97%)\n",
      "\n",
      "Train Epoch: 9 [0/60000 (0%)]\tLoss: 0.066440\n",
      "Train Epoch: 9 [6400/60000 (11%)]\tLoss: 0.163120\n",
      "Train Epoch: 9 [12800/60000 (21%)]\tLoss: 0.449496\n",
      "Train Epoch: 9 [19200/60000 (32%)]\tLoss: 0.126287\n",
      "Train Epoch: 9 [25600/60000 (43%)]\tLoss: 0.098884\n",
      "Train Epoch: 9 [32000/60000 (53%)]\tLoss: 0.160423\n",
      "Train Epoch: 9 [38400/60000 (64%)]\tLoss: 0.176668\n",
      "Train Epoch: 9 [44800/60000 (75%)]\tLoss: 0.270105\n",
      "Train Epoch: 9 [51200/60000 (85%)]\tLoss: 0.306447\n",
      "Train Epoch: 9 [57600/60000 (96%)]\tLoss: 0.132297\n",
      "\n",
      "Validation set: Average loss: 0.1015, Accuracy: 9691/10000 (97%)\n",
      "\n",
      "Train Epoch: 10 [0/60000 (0%)]\tLoss: 0.321925\n",
      "Train Epoch: 10 [6400/60000 (11%)]\tLoss: 0.183520\n",
      "Train Epoch: 10 [12800/60000 (21%)]\tLoss: 0.194817\n",
      "Train Epoch: 10 [19200/60000 (32%)]\tLoss: 0.039486\n",
      "Train Epoch: 10 [25600/60000 (43%)]\tLoss: 0.559838\n",
      "Train Epoch: 10 [32000/60000 (53%)]\tLoss: 0.455437\n",
      "Train Epoch: 10 [38400/60000 (64%)]\tLoss: 0.094665\n",
      "Train Epoch: 10 [44800/60000 (75%)]\tLoss: 0.059658\n",
      "Train Epoch: 10 [51200/60000 (85%)]\tLoss: 0.159771\n",
      "Train Epoch: 10 [57600/60000 (96%)]\tLoss: 0.124046\n",
      "\n",
      "Validation set: Average loss: 0.0945, Accuracy: 9718/10000 (97%)\n",
      "\n",
      "Train Epoch: 11 [0/60000 (0%)]\tLoss: 0.061642\n",
      "Train Epoch: 11 [6400/60000 (11%)]\tLoss: 0.040860\n",
      "Train Epoch: 11 [12800/60000 (21%)]\tLoss: 0.108363\n",
      "Train Epoch: 11 [19200/60000 (32%)]\tLoss: 0.497598\n",
      "Train Epoch: 11 [25600/60000 (43%)]\tLoss: 0.202968\n",
      "Train Epoch: 11 [32000/60000 (53%)]\tLoss: 0.166486\n",
      "Train Epoch: 11 [38400/60000 (64%)]\tLoss: 0.151406\n",
      "Train Epoch: 11 [44800/60000 (75%)]\tLoss: 0.554306\n",
      "Train Epoch: 11 [51200/60000 (85%)]\tLoss: 0.127700\n",
      "Train Epoch: 11 [57600/60000 (96%)]\tLoss: 0.059637\n",
      "\n",
      "Validation set: Average loss: 0.0998, Accuracy: 9690/10000 (97%)\n",
      "\n",
      "Train Epoch: 12 [0/60000 (0%)]\tLoss: 0.040585\n",
      "Train Epoch: 12 [6400/60000 (11%)]\tLoss: 0.024030\n",
      "Train Epoch: 12 [12800/60000 (21%)]\tLoss: 0.141154\n",
      "Train Epoch: 12 [19200/60000 (32%)]\tLoss: 0.171045\n",
      "Train Epoch: 12 [25600/60000 (43%)]\tLoss: 0.475033\n",
      "Train Epoch: 12 [32000/60000 (53%)]\tLoss: 0.076153\n",
      "Train Epoch: 12 [38400/60000 (64%)]\tLoss: 0.037559\n",
      "Train Epoch: 12 [44800/60000 (75%)]\tLoss: 0.232761\n",
      "Train Epoch: 12 [51200/60000 (85%)]\tLoss: 0.087994\n",
      "Train Epoch: 12 [57600/60000 (96%)]\tLoss: 0.156908\n",
      "\n",
      "Validation set: Average loss: 0.0955, Accuracy: 9715/10000 (97%)\n",
      "\n",
      "Train Epoch: 13 [0/60000 (0%)]\tLoss: 0.257778\n",
      "Train Epoch: 13 [6400/60000 (11%)]\tLoss: 0.139760\n",
      "Train Epoch: 13 [12800/60000 (21%)]\tLoss: 0.066975\n",
      "Train Epoch: 13 [19200/60000 (32%)]\tLoss: 0.031161\n",
      "Train Epoch: 13 [25600/60000 (43%)]\tLoss: 0.081525\n",
      "Train Epoch: 13 [32000/60000 (53%)]\tLoss: 0.143036\n",
      "Train Epoch: 13 [38400/60000 (64%)]\tLoss: 0.010565\n",
      "Train Epoch: 13 [44800/60000 (75%)]\tLoss: 0.075643\n",
      "Train Epoch: 13 [51200/60000 (85%)]\tLoss: 0.352185\n",
      "Train Epoch: 13 [57600/60000 (96%)]\tLoss: 0.049445\n",
      "\n",
      "Validation set: Average loss: 0.0871, Accuracy: 9719/10000 (97%)\n",
      "\n",
      "Train Epoch: 14 [0/60000 (0%)]\tLoss: 0.174675\n",
      "Train Epoch: 14 [6400/60000 (11%)]\tLoss: 0.114819\n",
      "Train Epoch: 14 [12800/60000 (21%)]\tLoss: 0.045465\n",
      "Train Epoch: 14 [19200/60000 (32%)]\tLoss: 0.248455\n",
      "Train Epoch: 14 [25600/60000 (43%)]\tLoss: 0.211966\n",
      "Train Epoch: 14 [32000/60000 (53%)]\tLoss: 0.160879\n",
      "Train Epoch: 14 [38400/60000 (64%)]\tLoss: 0.230371\n",
      "Train Epoch: 14 [44800/60000 (75%)]\tLoss: 0.032511\n",
      "Train Epoch: 14 [51200/60000 (85%)]\tLoss: 0.098580\n",
      "Train Epoch: 14 [57600/60000 (96%)]\tLoss: 0.036179\n",
      "\n",
      "Validation set: Average loss: 0.0873, Accuracy: 9741/10000 (97%)\n",
      "\n",
      "Train Epoch: 15 [0/60000 (0%)]\tLoss: 0.155995\n",
      "Train Epoch: 15 [6400/60000 (11%)]\tLoss: 0.220745\n",
      "Train Epoch: 15 [12800/60000 (21%)]\tLoss: 0.039203\n",
      "Train Epoch: 15 [19200/60000 (32%)]\tLoss: 0.181283\n",
      "Train Epoch: 15 [25600/60000 (43%)]\tLoss: 0.070859\n",
      "Train Epoch: 15 [32000/60000 (53%)]\tLoss: 0.148340\n",
      "Train Epoch: 15 [38400/60000 (64%)]\tLoss: 0.034584\n",
      "Train Epoch: 15 [44800/60000 (75%)]\tLoss: 0.047499\n",
      "Train Epoch: 15 [51200/60000 (85%)]\tLoss: 0.027079\n",
      "Train Epoch: 15 [57600/60000 (96%)]\tLoss: 0.083174\n",
      "\n",
      "Validation set: Average loss: 0.0898, Accuracy: 9738/10000 (97%)\n",
      "\n",
      "Train Epoch: 16 [0/60000 (0%)]\tLoss: 0.059306\n",
      "Train Epoch: 16 [6400/60000 (11%)]\tLoss: 0.030318\n",
      "Train Epoch: 16 [12800/60000 (21%)]\tLoss: 0.031286\n",
      "Train Epoch: 16 [19200/60000 (32%)]\tLoss: 0.115745\n",
      "Train Epoch: 16 [25600/60000 (43%)]\tLoss: 0.181365\n",
      "Train Epoch: 16 [32000/60000 (53%)]\tLoss: 0.015570\n",
      "Train Epoch: 16 [38400/60000 (64%)]\tLoss: 0.088767\n",
      "Train Epoch: 16 [44800/60000 (75%)]\tLoss: 0.074367\n",
      "Train Epoch: 16 [51200/60000 (85%)]\tLoss: 0.209921\n",
      "Train Epoch: 16 [57600/60000 (96%)]\tLoss: 0.051117\n",
      "\n",
      "Validation set: Average loss: 0.0804, Accuracy: 9765/10000 (98%)\n",
      "\n",
      "Train Epoch: 17 [0/60000 (0%)]\tLoss: 0.058364\n",
      "Train Epoch: 17 [6400/60000 (11%)]\tLoss: 0.213942\n",
      "Train Epoch: 17 [12800/60000 (21%)]\tLoss: 0.079917\n",
      "Train Epoch: 17 [19200/60000 (32%)]\tLoss: 0.159775\n",
      "Train Epoch: 17 [25600/60000 (43%)]\tLoss: 0.292610\n",
      "Train Epoch: 17 [32000/60000 (53%)]\tLoss: 0.575497\n",
      "Train Epoch: 17 [38400/60000 (64%)]\tLoss: 0.227847\n",
      "Train Epoch: 17 [44800/60000 (75%)]\tLoss: 0.119324\n",
      "Train Epoch: 17 [51200/60000 (85%)]\tLoss: 0.072087\n",
      "Train Epoch: 17 [57600/60000 (96%)]\tLoss: 0.059858\n",
      "\n",
      "Validation set: Average loss: 0.0818, Accuracy: 9751/10000 (98%)\n",
      "\n",
      "Train Epoch: 18 [0/60000 (0%)]\tLoss: 0.046225\n",
      "Train Epoch: 18 [6400/60000 (11%)]\tLoss: 0.040071\n",
      "Train Epoch: 18 [12800/60000 (21%)]\tLoss: 0.038450\n",
      "Train Epoch: 18 [19200/60000 (32%)]\tLoss: 0.031974\n",
      "Train Epoch: 18 [25600/60000 (43%)]\tLoss: 0.373533\n",
      "Train Epoch: 18 [32000/60000 (53%)]\tLoss: 0.093553\n",
      "Train Epoch: 18 [38400/60000 (64%)]\tLoss: 0.018120\n",
      "Train Epoch: 18 [44800/60000 (75%)]\tLoss: 0.197818\n",
      "Train Epoch: 18 [51200/60000 (85%)]\tLoss: 0.182691\n",
      "Train Epoch: 18 [57600/60000 (96%)]\tLoss: 0.121239\n",
      "\n",
      "Validation set: Average loss: 0.0810, Accuracy: 9766/10000 (98%)\n",
      "\n",
      "Train Epoch: 19 [0/60000 (0%)]\tLoss: 0.028700\n",
      "Train Epoch: 19 [6400/60000 (11%)]\tLoss: 0.036518\n",
      "Train Epoch: 19 [12800/60000 (21%)]\tLoss: 0.040300\n",
      "Train Epoch: 19 [19200/60000 (32%)]\tLoss: 0.276980\n",
      "Train Epoch: 19 [25600/60000 (43%)]\tLoss: 0.029432\n",
      "Train Epoch: 19 [32000/60000 (53%)]\tLoss: 0.151997\n",
      "Train Epoch: 19 [38400/60000 (64%)]\tLoss: 0.048827\n",
      "Train Epoch: 19 [44800/60000 (75%)]\tLoss: 0.045884\n",
      "Train Epoch: 19 [51200/60000 (85%)]\tLoss: 0.022810\n",
      "Train Epoch: 19 [57600/60000 (96%)]\tLoss: 0.035805\n",
      "\n",
      "Validation set: Average loss: 0.0793, Accuracy: 9765/10000 (98%)\n",
      "\n",
      "Train Epoch: 20 [0/60000 (0%)]\tLoss: 0.102565\n",
      "Train Epoch: 20 [6400/60000 (11%)]\tLoss: 0.203236\n",
      "Train Epoch: 20 [12800/60000 (21%)]\tLoss: 0.102564\n",
      "Train Epoch: 20 [19200/60000 (32%)]\tLoss: 0.078087\n",
      "Train Epoch: 20 [25600/60000 (43%)]\tLoss: 0.027275\n",
      "Train Epoch: 20 [32000/60000 (53%)]\tLoss: 0.051158\n",
      "Train Epoch: 20 [38400/60000 (64%)]\tLoss: 0.004269\n",
      "Train Epoch: 20 [44800/60000 (75%)]\tLoss: 0.013404\n",
      "Train Epoch: 20 [51200/60000 (85%)]\tLoss: 0.101595\n",
      "Train Epoch: 20 [57600/60000 (96%)]\tLoss: 0.024508\n",
      "\n",
      "Validation set: Average loss: 0.0802, Accuracy: 9762/10000 (98%)\n",
      "\n",
      "CPU times: total: 3min 17s\n",
      "Wall time: 3min 12s\n"
     ]
    }
   ],
   "source": [
    "%%time\n",
    "epochs = 20\n",
    "\n",
    "lossv, accv = [], []\n",
    "for epoch in range(1, epochs + 1):\n",
    "    train(epoch)\n",
    "    validate(lossv, accv)"
   ]
  },
  {
   "cell_type": "markdown",
   "metadata": {},
   "source": [
    "Let's now visualize how the training progressed. \n",
    "\n",
    "* *Loss* is a function of the difference of the network output and the target values.  We are minimizing the loss function during training so it should decrease over time.\n",
    "* *Accuracy* is the classification accuracy for the test data."
   ]
  },
  {
   "cell_type": "code",
   "execution_count": 9,
   "metadata": {},
   "outputs": [
    {
     "data": {
      "image/png": "[encoded data removed]",
      "text/plain": [
       "<Figure size 360x216 with 1 Axes>"
      ]
     },
     "metadata": {
      "needs_background": "light"
     },
     "output_type": "display_data"
    },
    {
     "data": {
      "image/png": "[encoded data removed]",
      "text/plain": [
       "<Figure size 360x216 with 1 Axes>"
      ]
     },
     "metadata": {
      "needs_background": "light"
     },
     "output_type": "display_data"
    }
   ],
   "source": [
    "plt.figure(figsize=(5,3))\n",
    "plt.plot(np.arange(1,epochs+1), lossv)\n",
    "plt.title('validation loss')\n",
    "\n",
    "plt.figure(figsize=(5,3))\n",
    "plt.plot(np.arange(1,epochs+1), accv)\n",
    "plt.title('validation accuracy');"
   ]
  },
  {
   "cell_type": "markdown",
   "metadata": {},
   "source": [
    "## Model tuning\n",
    "\n",
    "Modify the MLP model.  Try to improve the classification accuracy, or experiment with the effects of different parameters.  If you are interested in the state-of-the-art performance on permutation invariant MNIST, see e.g. this [recent paper](https://arxiv.org/abs/1507.02672) by Aalto University / The Curious AI Company researchers.\n",
    "\n",
    "You can also consult the PyTorch documentation at http://pytorch.org/."
   ]
  },
  {
   "cell_type": "code",
   "execution_count": null,
   "metadata": {},
   "outputs": [],
   "source": []
  }
 ],
 "metadata": {
  "kernelspec": {
   "display_name": "Python 3 (ipykernel)",
   "language": "python",
   "name": "python3"
  },
  "language_info": {
   "codemirror_mode": {
    "name": "ipython",
    "version": 3
   },
   "file_extension": ".py",
   "mimetype": "text/x-python",
   "name": "python",
   "nbconvert_exporter": "python",
   "pygments_lexer": "ipython3",
   "version": "3.9.7"
  }
 },
 "nbformat": 4,
 "nbformat_minor": 4
}
